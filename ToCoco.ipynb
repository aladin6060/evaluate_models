{
 "cells": [
  {
   "cell_type": "markdown",
   "metadata": {
    "id": "Pqq5JvE-IX0W"
   },
   "source": [
    "This Script collects the json files assosicated with each frame and cocacenates it to one json file of all frames in the form of a coco dataset. \n",
    "\n",
    "Remark: Detr expects the follwoing file structure\n",
    "![structure.PNG](data:image/png;base64,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)\n",
    "\n",
    "Therfor the created json file has to be copied to annotations with the following file names: \n",
    "\n",
    "-val2017.json\n",
    "-train2017.json"
   ]
  },
  {
   "cell_type": "code",
   "execution_count": 9,
   "metadata": {
    "colab": {
     "base_uri": "https://localhost:8080/"
    },
    "executionInfo": {
     "elapsed": 390,
     "status": "ok",
     "timestamp": 1605977013541,
     "user": {
      "displayName": "Silvio müller",
      "photoUrl": "",
      "userId": "01757549989225991833"
     },
     "user_tz": -60
    },
    "id": "_LWxTUYAHOcT",
    "outputId": "5ed11237-408f-4aa1-dce5-5ac9e8ff6b5d"
   },
   "outputs": [
    {
     "name": "stdout",
     "output_type": "stream",
     "text": [
      "Drive already mounted at /content/drive; to attempt to forcibly remount, call drive.mount(\"/content/drive\", force_remount=True).\n"
     ]
    }
   ],
   "source": [
    "from google.colab import drive\n",
    "drive.mount('/content/drive')"
   ]
  },
  {
   "cell_type": "code",
   "execution_count": 2,
   "metadata": {
    "executionInfo": {
     "elapsed": 60441,
     "status": "ok",
     "timestamp": 1605976827375,
     "user": {
      "displayName": "Silvio müller",
      "photoUrl": "",
      "userId": "01757549989225991833"
     },
     "user_tz": -60
    },
    "id": "M0qgpVQOER8W"
   },
   "outputs": [],
   "source": [
    "import pandas as pd\n",
    "import matplotlib.pyplot as plt\n",
    "import matplotlib.patches as patches\n",
    "import os\n",
    "import torch\n",
    "from skimage import io, transform\n",
    "from torch.utils.data import Dataset, DataLoader\n",
    "import json\n",
    "import glob\n",
    "\n",
    "#Path to the folder with the json files, which you want to combine to one dataset. This hast to be done seperaterly\n",
    "#For the training and testing dataset. "
   ]
  },
  {
   "cell_type": "code",
   "execution_count": 5,
   "metadata": {
    "executionInfo": {
     "elapsed": 649,
     "status": "ok",
     "timestamp": 1605978114210,
     "user": {
      "displayName": "Silvio müller",
      "photoUrl": "",
      "userId": "01757549989225991833"
     },
     "user_tz": -60
    },
    "id": "ESBhcVNqrc5O"
   },
   "outputs": [],
   "source": [
    "path = 'C:\\OneDrive\\EPFL 5. Semester\\ML\\evaluate_models\\coco\\val2017'\n",
    "all_files = glob.glob(path + \"/*.json\")"
   ]
  },
  {
   "cell_type": "code",
   "execution_count": 6,
   "metadata": {
    "executionInfo": {
     "elapsed": 2531238,
     "status": "ok",
     "timestamp": 1605980651480,
     "user": {
      "displayName": "Silvio müller",
      "photoUrl": "",
      "userId": "01757549989225991833"
     },
     "user_tz": -60
    },
    "id": "Ee9yFI4xF3vN"
   },
   "outputs": [
    {
     "ename": "ValueError",
     "evalue": "No objects to concatenate",
     "output_type": "error",
     "traceback": [
      "\u001b[1;31m---------------------------------------------------------------------------\u001b[0m",
      "\u001b[1;31mValueError\u001b[0m                                Traceback (most recent call last)",
      "\u001b[1;32m<ipython-input-6-1d3a33131ba0>\u001b[0m in \u001b[0;36m<module>\u001b[1;34m\u001b[0m\n\u001b[0;32m      8\u001b[0m     \u001b[0mli\u001b[0m\u001b[1;33m.\u001b[0m\u001b[0mappend\u001b[0m\u001b[1;33m(\u001b[0m\u001b[0mdf\u001b[0m\u001b[1;33m)\u001b[0m\u001b[1;33m\u001b[0m\u001b[1;33m\u001b[0m\u001b[0m\n\u001b[0;32m      9\u001b[0m \u001b[1;33m\u001b[0m\u001b[0m\n\u001b[1;32m---> 10\u001b[1;33m \u001b[0mframe\u001b[0m \u001b[1;33m=\u001b[0m \u001b[0mpd\u001b[0m\u001b[1;33m.\u001b[0m\u001b[0mconcat\u001b[0m\u001b[1;33m(\u001b[0m\u001b[0mli\u001b[0m\u001b[1;33m,\u001b[0m \u001b[0maxis\u001b[0m\u001b[1;33m=\u001b[0m\u001b[1;36m0\u001b[0m\u001b[1;33m,\u001b[0m \u001b[0mignore_index\u001b[0m\u001b[1;33m=\u001b[0m\u001b[1;32mTrue\u001b[0m\u001b[1;33m)\u001b[0m\u001b[1;33m\u001b[0m\u001b[1;33m\u001b[0m\u001b[0m\n\u001b[0m",
      "\u001b[1;32m~\\anaconda3\\lib\\site-packages\\pandas\\core\\reshape\\concat.py\u001b[0m in \u001b[0;36mconcat\u001b[1;34m(objs, axis, join, ignore_index, keys, levels, names, verify_integrity, sort, copy)\u001b[0m\n\u001b[0;32m    272\u001b[0m     \u001b[0mValueError\u001b[0m\u001b[1;33m:\u001b[0m \u001b[0mIndexes\u001b[0m \u001b[0mhave\u001b[0m \u001b[0moverlapping\u001b[0m \u001b[0mvalues\u001b[0m\u001b[1;33m:\u001b[0m \u001b[1;33m[\u001b[0m\u001b[1;34m'a'\u001b[0m\u001b[1;33m]\u001b[0m\u001b[1;33m\u001b[0m\u001b[1;33m\u001b[0m\u001b[0m\n\u001b[0;32m    273\u001b[0m     \"\"\"\n\u001b[1;32m--> 274\u001b[1;33m     op = _Concatenator(\n\u001b[0m\u001b[0;32m    275\u001b[0m         \u001b[0mobjs\u001b[0m\u001b[1;33m,\u001b[0m\u001b[1;33m\u001b[0m\u001b[1;33m\u001b[0m\u001b[0m\n\u001b[0;32m    276\u001b[0m         \u001b[0maxis\u001b[0m\u001b[1;33m=\u001b[0m\u001b[0maxis\u001b[0m\u001b[1;33m,\u001b[0m\u001b[1;33m\u001b[0m\u001b[1;33m\u001b[0m\u001b[0m\n",
      "\u001b[1;32m~\\anaconda3\\lib\\site-packages\\pandas\\core\\reshape\\concat.py\u001b[0m in \u001b[0;36m__init__\u001b[1;34m(self, objs, axis, join, keys, levels, names, ignore_index, verify_integrity, copy, sort)\u001b[0m\n\u001b[0;32m    329\u001b[0m \u001b[1;33m\u001b[0m\u001b[0m\n\u001b[0;32m    330\u001b[0m         \u001b[1;32mif\u001b[0m \u001b[0mlen\u001b[0m\u001b[1;33m(\u001b[0m\u001b[0mobjs\u001b[0m\u001b[1;33m)\u001b[0m \u001b[1;33m==\u001b[0m \u001b[1;36m0\u001b[0m\u001b[1;33m:\u001b[0m\u001b[1;33m\u001b[0m\u001b[1;33m\u001b[0m\u001b[0m\n\u001b[1;32m--> 331\u001b[1;33m             \u001b[1;32mraise\u001b[0m \u001b[0mValueError\u001b[0m\u001b[1;33m(\u001b[0m\u001b[1;34m\"No objects to concatenate\"\u001b[0m\u001b[1;33m)\u001b[0m\u001b[1;33m\u001b[0m\u001b[1;33m\u001b[0m\u001b[0m\n\u001b[0m\u001b[0;32m    332\u001b[0m \u001b[1;33m\u001b[0m\u001b[0m\n\u001b[0;32m    333\u001b[0m         \u001b[1;32mif\u001b[0m \u001b[0mkeys\u001b[0m \u001b[1;32mis\u001b[0m \u001b[1;32mNone\u001b[0m\u001b[1;33m:\u001b[0m\u001b[1;33m\u001b[0m\u001b[1;33m\u001b[0m\u001b[0m\n",
      "\u001b[1;31mValueError\u001b[0m: No objects to concatenate"
     ]
    }
   ],
   "source": [
    "#load the relevant data (imagePath, shapes) into a pandas dataframe \n",
    "li = []\n",
    "for filename in all_files:\n",
    "    with open(filename) as f:\n",
    "        data_dict = json.load(f)\n",
    "    data = {'imagePath': data_dict[\"imagePath\"],'points': [data_dict[\"shapes\"][0][\"points\"]]}\n",
    "    df = pd.DataFrame.from_dict(data)\n",
    "    li.append(df)\n",
    "\n",
    "frame = pd.concat(li, axis=0, ignore_index=True)"
   ]
  },
  {
   "cell_type": "markdown",
   "metadata": {
    "id": "qx4ifH0NGl3W"
   },
   "source": [
    "Now i am transofrming the data that it has the same form as a coco dataset. check out this website for the structure https://www.immersivelimit.com/tutorials/create-coco-annotations-from-scratch/#coco-dataset-format"
   ]
  },
  {
   "cell_type": "code",
   "execution_count": 24,
   "metadata": {
    "executionInfo": {
     "elapsed": 551,
     "status": "ok",
     "timestamp": 1605980652058,
     "user": {
      "displayName": "Silvio müller",
      "photoUrl": "",
      "userId": "01757549989225991833"
     },
     "user_tz": -60
    },
    "id": "dbHdQJVVGJeW"
   },
   "outputs": [],
   "source": [
    "#All the informations that are constant\n",
    "info = {\n",
    "    \"description\": \"drone dataset\",\n",
    "    \"url\": \"\",\n",
    "    \"version\": \"1.0\",\n",
    "    \"year\": 2020,\n",
    "    \"contributor\": \"Silvio Müller\",\n",
    "    \"date_created\": \"2020/11/16\"\n",
    "}\n",
    "licenses =[\n",
    "    {\n",
    "        \"url\": \"http://creativecommons.org/licenses/by-nc-sa/2.0/\",\n",
    "        \"id\": 1,\n",
    "        \"name\": \"Attribution-NonCommercial-ShareAlike License\"\n",
    "    }]\n",
    "categories = [{\"id\": 1, \"name\": \"drone\", \"supercategory\": \"drone\",}]"
   ]
  },
  {
   "cell_type": "code",
   "execution_count": 25,
   "metadata": {
    "executionInfo": {
     "elapsed": 1620,
     "status": "ok",
     "timestamp": 1605980653140,
     "user": {
      "displayName": "Silvio müller",
      "photoUrl": "",
      "userId": "01757549989225991833"
     },
     "user_tz": -60
    },
    "id": "uA_lRsw3GOYO"
   },
   "outputs": [],
   "source": [
    "#building images\n",
    "const = {\"width\": 720, \"height\": 540, \"license\": 1, \"flicker_url\": \"\", \"coco_url\": \"\", \"date_captured\": \"2020-12-01 00:00:01\"}\n",
    "images = []\n",
    "for idx,row in frame.iterrows():\n",
    "    images.append({**{\"file_name\":row[0],\"id\": idx,},**const})"
   ]
  },
  {
   "cell_type": "code",
   "execution_count": 26,
   "metadata": {
    "executionInfo": {
     "elapsed": 2469,
     "status": "ok",
     "timestamp": 1605980653996,
     "user": {
      "displayName": "Silvio müller",
      "photoUrl": "",
      "userId": "01757549989225991833"
     },
     "user_tz": -60
    },
    "id": "4wE7xliEGa6X"
   },
   "outputs": [],
   "source": [
    "#building annotations\n",
    "const = {\"category_id\": 1, \"segmentation\": [], \"area\": 0, \"iscrowd\": 0,}\n",
    "annotations = []\n",
    "for idx,row in frame.iterrows():\n",
    "    annotations.append({**{\"id\": idx, \"image_id\": idx,\"bbox\": [row[1][0][0],row[1][0][1],row[1][1][0]-row[1][0][0],row[1][1][1]-row[1][0][1]]},**const})"
   ]
  },
  {
   "cell_type": "code",
   "execution_count": 27,
   "metadata": {
    "executionInfo": {
     "elapsed": 2461,
     "status": "ok",
     "timestamp": 1605980653996,
     "user": {
      "displayName": "Silvio müller",
      "photoUrl": "",
      "userId": "01757549989225991833"
     },
     "user_tz": -60
    },
    "id": "Z_7Cn-rZKeW2"
   },
   "outputs": [],
   "source": [
    "#Combining the whole dataset \n",
    "coco_dataset = {  \n",
    "        \"info\": info, \n",
    "        \"images\": images, \n",
    "        \"annotations\": annotations, \n",
    "        \"licenses\": licenses,\n",
    "        \"categories\": categories,\n",
    "        }\n"
   ]
  },
  {
   "cell_type": "code",
   "execution_count": 28,
   "metadata": {
    "executionInfo": {
     "elapsed": 2897,
     "status": "ok",
     "timestamp": 1605980654440,
     "user": {
      "displayName": "Silvio müller",
      "photoUrl": "",
      "userId": "01757549989225991833"
     },
     "user_tz": -60
    },
    "id": "i5ZdV-ZpHqtw"
   },
   "outputs": [],
   "source": [
    "#Writing the whole dataset to the same folder as the pictures/json files were located\n",
    "with open('{}/instances_val2017.json'.format(path), 'w', encoding='utf-8') as f:\n",
    "    json.dump(coco_dataset, f, ensure_ascii=False, indent=4)"
   ]
  },
  {
   "cell_type": "code",
   "execution_count": 28,
   "metadata": {
    "executionInfo": {
     "elapsed": 2895,
     "status": "ok",
     "timestamp": 1605980654440,
     "user": {
      "displayName": "Silvio müller",
      "photoUrl": "",
      "userId": "01757549989225991833"
     },
     "user_tz": -60
    },
    "id": "Hm1fAqbSr7qG"
   },
   "outputs": [],
   "source": []
  }
 ],
 "metadata": {
  "colab": {
   "collapsed_sections": [],
   "name": "ToCoco.ipynb",
   "provenance": []
  },
  "kernelspec": {
   "display_name": "Python 3",
   "language": "python",
   "name": "python3"
  },
  "language_info": {
   "codemirror_mode": {
    "name": "ipython",
    "version": 3
   },
   "file_extension": ".py",
   "mimetype": "text/x-python",
   "name": "python",
   "nbconvert_exporter": "python",
   "pygments_lexer": "ipython3",
   "version": "3.8.5"
  }
 },
 "nbformat": 4,
 "nbformat_minor": 4
}
