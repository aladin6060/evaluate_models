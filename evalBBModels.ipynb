{
 "cells": [
  {
   "cell_type": "code",
   "execution_count": 31,
   "metadata": {},
   "outputs": [],
   "source": [
    "import torch\n",
    "import os\n",
    "import torchvision.models as models\n",
    "from torchvision import datasets, transforms\n",
    "from PIL import Image\n",
    "import json"
   ]
  },
  {
   "cell_type": "code",
   "execution_count": 37,
   "metadata": {},
   "outputs": [
    {
     "name": "stdout",
     "output_type": "stream",
     "text": [
      "Loaded pretrained weights for efficientnet-b0\n",
      "Loaded pretrained weights for efficientnet-b2\n",
      "Loaded pretrained weights for efficientnet-b4\n",
      "Loaded pretrained weights for efficientnet-b6\n"
     ]
    }
   ],
   "source": [
    "#Importing all models and defining models vector\n",
    "resnet18 = models.resnet18(pretrained=True)\n",
    "resnet50 = models.resnet50(pretrained=True)\n",
    "resnet101 = models.resnet101(pretrained=True)\n",
    "resnext50_32x4d = models.resnext50_32x4d(pretrained=True)\n",
    "wide_resnet50_2 = models.wide_resnet50_2(pretrained=True)\n",
    "mobilenet = models.mobilenet_v2(pretrained=True)\n",
    "\n",
    "from efficientnet_pytorch import EfficientNet\n",
    "EfficientNetB0 = EfficientNet.from_pretrained('efficientnet-b0')\n",
    "EfficientNetB2 = EfficientNet.from_pretrained('efficientnet-b2')\n",
    "EfficientNetB4 = EfficientNet.from_pretrained('efficientnet-b4')\n",
    "EfficientNetB6 = EfficientNet.from_pretrained('efficientnet-b6')\n",
    "models = [resnet18,resnet50,resnet101,resnext50_32x4d,wide_resnet50_2,mobilenet,EfficientNetB0,\n",
    "          EfficientNetB2,EfficientNetB4,EfficientNetB6]\n",
    "models_string = ['resnet18','resnet50','resnet101','resnext50_32x4d','wide_resnet50_2','mobilenet','EfficientNetB0',\n",
    "          'EfficientNetB2','EfficientNetB4','EfficientNetB6']"
   ]
  },
  {
   "cell_type": "code",
   "execution_count": 24,
   "metadata": {},
   "outputs": [],
   "source": [
    "#load the path for all images that are going to be analyzed\n",
    "files = []\n",
    "for file in os.listdir(\"coco/val2017\"):\n",
    "    if file.endswith(\".jpg\"):\n",
    "        files.append(os.path.join(\"coco/val2017\", file))"
   ]
  },
  {
   "cell_type": "code",
   "execution_count": 26,
   "metadata": {},
   "outputs": [],
   "source": [
    "start = torch.cuda.Event(enable_timing=True)\n",
    "end = torch.cuda.Event(enable_timing=True)"
   ]
  },
  {
   "cell_type": "code",
   "execution_count": 28,
   "metadata": {},
   "outputs": [],
   "source": [
    "# sample execution (requires torchvision)\n",
    "model_time = []\n",
    "for model in models:\n",
    "    model.eval()\n",
    "    time = []\n",
    "    for path in files:\n",
    "        input_image = Image.open(path)\n",
    "        preprocess = transforms.Compose([\n",
    "            transforms.Resize(256),\n",
    "            transforms.CenterCrop(224),\n",
    "            transforms.ToTensor(),\n",
    "            transforms.Normalize(mean=[0.485, 0.456, 0.406], std=[0.229, 0.224, 0.225]),\n",
    "        ])\n",
    "        input_tensor = preprocess(input_image)\n",
    "        input_batch = input_tensor.unsqueeze(0) # create a mini-batch as expected by the model\n",
    "\n",
    "        # move the input and model to GPU for speed if available\n",
    "        if torch.cuda.is_available():\n",
    "            input_batch = input_batch.to('cuda')\n",
    "            model.to('cuda')\n",
    "            end.record()\n",
    "\n",
    "        with torch.no_grad():\n",
    "            start.record()\n",
    "            output = model(input_batch)\n",
    "        # Tensor of shape 1000, with confidence scores over Imagenet's 1000 classes\n",
    "\n",
    "        # The output has unnormalized scores. To get probabilities, you can run a softmax on it.\n",
    "        predictions = torch.nn.functional.softmax(output[0], dim=0)\n",
    "        maxvalue= torch.argmax(predictions)\n",
    "        torch.cuda.synchronize()\n",
    "        time.append(end.elapsed_time(start))\n",
    "    model_time.append(sum(time)/len(time))\n",
    "    \n",
    "    "
   ]
  },
  {
   "cell_type": "code",
   "execution_count": 41,
   "metadata": {},
   "outputs": [],
   "source": [
    "res = {models_string[i]: model_time[i] for i in range(len(models_string))} \n",
    "with open('data.json', 'w') as f:\n",
    "    json.dump(res, f)"
   ]
  }
 ],
 "metadata": {
  "kernelspec": {
   "display_name": "Python 3",
   "language": "python",
   "name": "python3"
  },
  "language_info": {
   "codemirror_mode": {
    "name": "ipython",
    "version": 3
   },
   "file_extension": ".py",
   "mimetype": "text/x-python",
   "name": "python",
   "nbconvert_exporter": "python",
   "pygments_lexer": "ipython3",
   "version": "3.8.5"
  }
 },
 "nbformat": 4,
 "nbformat_minor": 4
}
